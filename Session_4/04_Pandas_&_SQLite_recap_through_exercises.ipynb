{
  "nbformat": 4,
  "nbformat_minor": 0,
  "metadata": {
    "colab": {
      "name": "04_Pandas_&_SQLite_recap_through_exercises.ipynb",
      "provenance": [],
      "collapsed_sections": []
    },
    "kernelspec": {
      "name": "python3",
      "display_name": "Python 3"
    }
  },
  "cells": [
    {
      "cell_type": "markdown",
      "metadata": {
        "id": "aUacJe1qJSCG"
      },
      "source": [
        "![BTS](https://github.com/vfp1/bts-dsf-2020/blob/main/Logo-BTS.jpg?raw=1)\n",
        "\n",
        "# Session 4: Pandas and SQLite in depth session\n",
        "\n",
        "### Victor F. Pajuelo Madrigal <victor.pajuelo@bts.tech> - Data Science Foundations (2020-10-29)\n",
        "\n",
        "Open this notebook in Google Colaboratory: [![Open in Colab](https://colab.research.google.com/assets/colab-badge.svg)](https://colab.research.google.com/github/vfp1/bts-dsf-2020/blob/main/Session_4/04_Pandas_&_SQLite_recap_through_exercises.ipynb)\n"
      ]
    },
    {
      "cell_type": "markdown",
      "metadata": {
        "id": "F95_2cieLo1Y"
      },
      "source": [
        "# More Pandas!\n",
        "\n",
        "Check a good cheatsheet for Pandas [here](https://www.w3resource.com/python-exercises/pandas/index.php)\n",
        "\n",
        "[Some cool exercise resources for Pandas](https://www.machinelearningplus.com/python/101-pandas-exercises-python/)"
      ]
    },
    {
      "cell_type": "markdown",
      "metadata": {
        "id": "5Wc44wNaSCC3"
      },
      "source": [
        "## Groupby exersises\n",
        "\n",
        "Import this [dataset](https://raw.githubusercontent.com/justmarkham/DAT8/master/data/u.user)\n",
        "\n",
        "*   What is the mean age per occupation?\n",
        "*   What is the male ratio per occupation, sort it from the most to the least. Do the same for women\n",
        "*   For each occupation, calculate the minimum and maximum ages\n",
        "* For each combination of occupation and gender, calculate the mean age\n",
        "* For each occupation present the percentage of women and men\n",
        "\n"
      ]
    },
    {
      "cell_type": "code",
      "metadata": {
        "id": "ud9R4ME90fJJ"
      },
      "source": [
        ""
      ],
      "execution_count": null,
      "outputs": []
    },
    {
      "cell_type": "markdown",
      "metadata": {
        "id": "2fCqx8EDTEr5"
      },
      "source": [
        "## Apply exercises\n",
        "\n",
        "Import this [dataset](https://raw.githubusercontent.com/vfp1/bts-dsf-2020/main/data/US_Crime_Rates_1960_2014.csv)\n",
        "\n",
        "* What is the type of the columns?\n",
        "* Convert the type of the column Year to datetime64\n",
        "* Set the Year column as the index of the dataframe\n",
        "* Delete the Total column\n",
        "* Group the year by decades and sum the values (take care with population values)\n",
        "* What is the most dangerous decade to live in the US?\n"
      ]
    },
    {
      "cell_type": "code",
      "metadata": {
        "id": "aaVFtYXM0fou"
      },
      "source": [
        ""
      ],
      "execution_count": null,
      "outputs": []
    },
    {
      "cell_type": "markdown",
      "metadata": {
        "id": "TtTjzzqEKs9W"
      },
      "source": [
        "# SQLite and Pandas"
      ]
    },
    {
      "cell_type": "markdown",
      "metadata": {
        "id": "kdc6MV8VPqnI"
      },
      "source": [
        "## SQLite, Pandas and the world of tips"
      ]
    },
    {
      "cell_type": "markdown",
      "metadata": {
        "id": "aAl6NWYfP-QR"
      },
      "source": [
        "Given [this](https://github.com/vfp1/bts-dsf-2020/blob/main/data/tips.csv) CSV file. Do the following:\n",
        "\n",
        "* Load it in Pandas\n",
        "* Save the `DataFrame` as SQLite\n",
        "* Reply the following questions by slicing the SQLite database with SQL queries and then using Pandas for analysis:\n",
        "    * Who is most likely to receive a tip during weekday? A Female or a Male? \n",
        "        * And during weekends?\n",
        "    * What is the table size that is most likely to bring a better tip?\n",
        "    * Who are giving more tips, smokers or non smokers? "
      ]
    },
    {
      "cell_type": "code",
      "metadata": {
        "id": "4kfmDHn00gnn"
      },
      "source": [
        ""
      ],
      "execution_count": null,
      "outputs": []
    },
    {
      "cell_type": "markdown",
      "metadata": {
        "id": "oMFekCoyPvkW"
      },
      "source": [
        "## More airports, this time without spatial fears\n",
        " "
      ]
    },
    {
      "cell_type": "markdown",
      "metadata": {
        "id": "a_UsxZ2zQC85"
      },
      "source": [
        "Download [this Sqlite database](https://github.com/vfp1/bts-dsf-2020/raw/main/data/flights.db)\n",
        "\n",
        "Using SQLite database reply the following questions:\n",
        "\n",
        "*   Which is the country that has the least amount of active airlines?\n",
        "*   And which is the country that has the most amount of active airlines?\n",
        "*   Which is the country that has more airports?\n",
        "*   And the country with the least airports?\n",
        "*   Which country has the most outgoing destinations? And the least?\n",
        "*   And which country has the most incoming destinations? And the least?\n",
        "\n"
      ]
    },
    {
      "cell_type": "code",
      "metadata": {
        "id": "8o0sw6WcJY_Z"
      },
      "source": [
        ""
      ],
      "execution_count": null,
      "outputs": []
    }
  ]
}
